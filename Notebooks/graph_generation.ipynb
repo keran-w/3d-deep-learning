{
 "cells": [
  {
   "cell_type": "code",
   "execution_count": 2,
   "metadata": {},
   "outputs": [],
   "source": [
    "import os\n",
    "import glob\n",
    "import pickle\n",
    "import numpy as np\n",
    "import pandas as pd\n",
    "from pathlib import Path\n",
    "\n",
    "from tqdm import tqdm\n",
    "from IPython.display import clear_output\n",
    "\n",
    "from sklearn.model_selection import train_test_split\n",
    "from sklearn.preprocessing import LabelEncoder\n",
    "\n",
    "import matplotlib.pyplot as plt\n",
    "import ydata_profiling\n",
    "from mpl_toolkits import mplot3d\n",
    "from matplotlib.animation import FuncAnimation\n",
    "\n",
    "import torch\n",
    "from torch import nn\n",
    "from torch.nn import functional as F\n",
    "\n",
    "from torch.utils.data import Dataset, DataLoader\n",
    "\n",
    "import warnings\n",
    "warnings.filterwarnings('ignore')"
   ]
  },
  {
   "cell_type": "code",
   "execution_count": 14,
   "metadata": {},
   "outputs": [],
   "source": [
    "num_layer = 5\n",
    "dataset_dir = 'Dataset/ModelNet40-path'\n",
    "base_path = Path('Dataset')"
   ]
  },
  {
   "cell_type": "code",
   "execution_count": 19,
   "metadata": {},
   "outputs": [
    {
     "data": {
      "text/html": [
       "<div>\n",
       "<style scoped>\n",
       "    .dataframe tbody tr th:only-of-type {\n",
       "        vertical-align: middle;\n",
       "    }\n",
       "\n",
       "    .dataframe tbody tr th {\n",
       "        vertical-align: top;\n",
       "    }\n",
       "\n",
       "    .dataframe thead th {\n",
       "        text-align: right;\n",
       "    }\n",
       "</style>\n",
       "<table border=\"1\" class=\"dataframe\">\n",
       "  <thead>\n",
       "    <tr style=\"text-align: right;\">\n",
       "      <th></th>\n",
       "      <th>object_id</th>\n",
       "      <th>class</th>\n",
       "      <th>split</th>\n",
       "      <th>object_path</th>\n",
       "    </tr>\n",
       "  </thead>\n",
       "  <tbody>\n",
       "    <tr>\n",
       "      <th>0</th>\n",
       "      <td>airplane_0627</td>\n",
       "      <td>airplane</td>\n",
       "      <td>test</td>\n",
       "      <td>airplane/test/airplane_0627.path</td>\n",
       "    </tr>\n",
       "    <tr>\n",
       "      <th>1</th>\n",
       "      <td>airplane_0628</td>\n",
       "      <td>airplane</td>\n",
       "      <td>test</td>\n",
       "      <td>airplane/test/airplane_0628.path</td>\n",
       "    </tr>\n",
       "    <tr>\n",
       "      <th>2</th>\n",
       "      <td>airplane_0629</td>\n",
       "      <td>airplane</td>\n",
       "      <td>test</td>\n",
       "      <td>airplane/test/airplane_0629.path</td>\n",
       "    </tr>\n",
       "    <tr>\n",
       "      <th>3</th>\n",
       "      <td>airplane_0630</td>\n",
       "      <td>airplane</td>\n",
       "      <td>test</td>\n",
       "      <td>airplane/test/airplane_0630.path</td>\n",
       "    </tr>\n",
       "    <tr>\n",
       "      <th>4</th>\n",
       "      <td>airplane_0631</td>\n",
       "      <td>airplane</td>\n",
       "      <td>test</td>\n",
       "      <td>airplane/test/airplane_0631.path</td>\n",
       "    </tr>\n",
       "    <tr>\n",
       "      <th>...</th>\n",
       "      <td>...</td>\n",
       "      <td>...</td>\n",
       "      <td>...</td>\n",
       "      <td>...</td>\n",
       "    </tr>\n",
       "    <tr>\n",
       "      <th>12306</th>\n",
       "      <td>xbox_0099</td>\n",
       "      <td>xbox</td>\n",
       "      <td>train</td>\n",
       "      <td>xbox/train/xbox_0099.path</td>\n",
       "    </tr>\n",
       "    <tr>\n",
       "      <th>12307</th>\n",
       "      <td>xbox_0100</td>\n",
       "      <td>xbox</td>\n",
       "      <td>train</td>\n",
       "      <td>xbox/train/xbox_0100.path</td>\n",
       "    </tr>\n",
       "    <tr>\n",
       "      <th>12308</th>\n",
       "      <td>xbox_0101</td>\n",
       "      <td>xbox</td>\n",
       "      <td>train</td>\n",
       "      <td>xbox/train/xbox_0101.path</td>\n",
       "    </tr>\n",
       "    <tr>\n",
       "      <th>12309</th>\n",
       "      <td>xbox_0102</td>\n",
       "      <td>xbox</td>\n",
       "      <td>train</td>\n",
       "      <td>xbox/train/xbox_0102.path</td>\n",
       "    </tr>\n",
       "    <tr>\n",
       "      <th>12310</th>\n",
       "      <td>xbox_0103</td>\n",
       "      <td>xbox</td>\n",
       "      <td>train</td>\n",
       "      <td>xbox/train/xbox_0103.path</td>\n",
       "    </tr>\n",
       "  </tbody>\n",
       "</table>\n",
       "<p>8368 rows × 4 columns</p>\n",
       "</div>"
      ],
      "text/plain": [
       "           object_id     class  split                       object_path\n",
       "0      airplane_0627  airplane   test  airplane/test/airplane_0627.path\n",
       "1      airplane_0628  airplane   test  airplane/test/airplane_0628.path\n",
       "2      airplane_0629  airplane   test  airplane/test/airplane_0629.path\n",
       "3      airplane_0630  airplane   test  airplane/test/airplane_0630.path\n",
       "4      airplane_0631  airplane   test  airplane/test/airplane_0631.path\n",
       "...              ...       ...    ...                               ...\n",
       "12306      xbox_0099      xbox  train         xbox/train/xbox_0099.path\n",
       "12307      xbox_0100      xbox  train         xbox/train/xbox_0100.path\n",
       "12308      xbox_0101      xbox  train         xbox/train/xbox_0101.path\n",
       "12309      xbox_0102      xbox  train         xbox/train/xbox_0102.path\n",
       "12310      xbox_0103      xbox  train         xbox/train/xbox_0103.path\n",
       "\n",
       "[8368 rows x 4 columns]"
      ]
     },
     "execution_count": 19,
     "metadata": {},
     "output_type": "execute_result"
    }
   ],
   "source": [
    "# we only use files that are existed\n",
    "metadata = pd.read_csv(base_path/'metadata_modelnet40.csv')\n",
    "\n",
    "dataset_dir = base_path/'ModelNet40-path'\n",
    "all_files = [f[len(str(dataset_dir))+1:].replace('\\\\', '/')\n",
    "            for f in glob.glob(f'{dataset_dir}/*/*/*')]\n",
    "metadata.object_path = metadata.object_path.\\\n",
    "                        str.replace('.off', '.path', regex=True)\n",
    "metadata = metadata.query('`object_path` in @all_files')\n",
    "metadata"
   ]
  },
  {
   "cell_type": "code",
   "execution_count": 22,
   "metadata": {},
   "outputs": [
    {
     "data": {
      "text/plain": [
       "29"
      ]
     },
     "execution_count": 22,
     "metadata": {},
     "output_type": "execute_result"
    }
   ],
   "source": [
    "train_metadata = metadata.query('split == \"train\"')\n",
    "test_metadata = metadata.query('split == \"test\"')\n",
    "train_paths = [dataset_dir/fp for fp in train_metadata.object_path]\n",
    "train_labels = train_metadata['class']\n",
    "test_paths = [dataset_dir/fp for fp in test_metadata.object_path]\n",
    "test_labels = test_metadata['class']\n",
    "num_labels = len(set(train_labels))\n",
    "num_labels"
   ]
  },
  {
   "cell_type": "code",
   "execution_count": 23,
   "metadata": {},
   "outputs": [],
   "source": [
    "def load_path(file_path):\n",
    "    path_graph = open(file_path, 'r').read().split('\\n')[1:]\n",
    "    num_vert, num_edge = [int(i) for i in path_graph[0].split()]\n",
    "    verts = [[float(v_s) for v_s in v_str.split()] for v_str in path_graph[1:num_vert+1]]\n",
    "    edges = [[int(e_s) for e_s in e_str.split()] for e_str in path_graph[num_vert+1:]][:-1]\n",
    "    verts = np.array(verts)\n",
    "    return verts, edges\n",
    "  \n",
    "file_path = metadata.object_path[0].replace('.off', '.path')\n",
    "verts, edges = load_path(dataset_dir/file_path)"
   ]
  },
  {
   "cell_type": "code",
   "execution_count": 24,
   "metadata": {},
   "outputs": [
    {
     "name": "stderr",
     "output_type": "stream",
     "text": [
      "100%|██████████| 700/700 [00:00<00:00, 1029.63it/s]\n"
     ]
    },
    {
     "data": {
      "image/png": "[encoded data removed]",
      "text/plain": [
       "<Figure size 576x576 with 1 Axes>"
      ]
     },
     "metadata": {
      "needs_background": "light"
     },
     "output_type": "display_data"
    }
   ],
   "source": [
    "def visualize(verts, edges):\n",
    "    fig = plt.figure(figsize=(8,8))\n",
    "    ax = plt.axes(projection='3d')\n",
    "    for edge in tqdm(edges):\n",
    "        ax.plot(\n",
    "            [verts[edge[0], 0], verts[edge[1], 0]],\n",
    "            [verts[edge[0], 1], verts[edge[1], 1]],\n",
    "            [verts[edge[0], 2], verts[edge[1], 2]],\n",
    "            linewidth=0.1,\n",
    "        )\n",
    "    ax.axis('off')\n",
    "    plt.show()\n",
    "\n",
    "visualize(verts, edges)"
   ]
  },
  {
   "cell_type": "code",
   "execution_count": 30,
   "metadata": {},
   "outputs": [],
   "source": [
    "def get_bitmap(verts, axis, precision=7):\n",
    "    verts_ = (np.round(verts*2**precision)).astype('int')\n",
    "    bitmap = np.zeros((2**precision,2**precision))\n",
    "    for i,j in verts_[:,axis]:\n",
    "        bitmap[i,j] += 1\n",
    "    return bitmap / np.max(bitmap)\n",
    "\n",
    "def get_bitmaps(verts, edges):\n",
    "    bm1 = get_bitmap(verts, [0,1]).tolist()\n",
    "    bm2 = get_bitmap(verts, [1,2]).tolist()\n",
    "    bm3 = get_bitmap(verts, [2,0]).tolist()\n",
    "    return [bm1, bm2, bm3]\n",
    "\n",
    "# bitmap_0 = get_bitmap(verts, [0,1])\n",
    "# bitmap_1 = get_bitmap(verts, [1,2])\n",
    "# bitmap_2 = get_bitmap(verts, [2,0])\n",
    "bitmaps = get_bitmaps(verts, edges)"
   ]
  },
  {
   "cell_type": "code",
   "execution_count": 31,
   "metadata": {},
   "outputs": [
    {
     "data": {
      "image/png": "[encoded data removed]",
      "text/plain": [
       "<Figure size 1296x432 with 3 Axes>"
      ]
     },
     "metadata": {
      "needs_background": "light"
     },
     "output_type": "display_data"
    }
   ],
   "source": [
    "def visualize_bitmap(ax, bitmap):\n",
    "    ax.imshow(bitmap, cmap='gray')\n",
    "    ax.axis('off')\n",
    "\n",
    "fig, ax = plt.subplots(1,3, figsize=(18,6))\n",
    "visualize_bitmap(ax[0], bitmaps[0])\n",
    "visualize_bitmap(ax[1], bitmaps[1])\n",
    "visualize_bitmap(ax[2], bitmaps[2])\n",
    "plt.show()"
   ]
  },
  {
   "cell_type": "code",
   "execution_count": 32,
   "metadata": {},
   "outputs": [
    {
     "name": "stderr",
     "output_type": "stream",
     "text": [
      "100%|██████████| 6838/6838 [01:02<00:00, 109.44it/s]\n",
      "100%|██████████| 1530/1530 [00:14<00:00, 105.65it/s]\n"
     ]
    }
   ],
   "source": [
    "# convert data to bitmaps\n",
    "train_data = [get_bitmaps(*load_path(fp)) for fp in tqdm(train_paths)]\n",
    "test_data = [get_bitmaps(*load_path(fp)) for fp in tqdm(test_paths)]"
   ]
  },
  {
   "cell_type": "code",
   "execution_count": null,
   "metadata": {},
   "outputs": [],
   "source": [
    "# save all data\n",
    "os.makedirs('saved_data', exist_ok=True)\n",
    "with open('saved_data/test_dataset.pkl', 'wb') as f:\n",
    "   pickle.dump((test_data, test_labels.tolist()), f)\n",
    "with open('saved_data/train_dataset.pkl', 'wb') as f:\n",
    "   pickle.dump((train_data, train_labels.tolist()), f)"
   ]
  }
 ],
 "metadata": {
  "kernelspec": {
   "display_name": "base",
   "language": "python",
   "name": "python3"
  },
  "language_info": {
   "codemirror_mode": {
    "name": "ipython",
    "version": 3
   },
   "file_extension": ".py",
   "mimetype": "text/x-python",
   "name": "python",
   "nbconvert_exporter": "python",
   "pygments_lexer": "ipython3",
   "version": "3.9.7"
  },
  "orig_nbformat": 4
 },
 "nbformat": 4,
 "nbformat_minor": 2
}
