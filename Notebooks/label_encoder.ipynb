{
  "nbformat": 4,
  "nbformat_minor": 0,
  "metadata": {
    "colab": {
      "provenance": [],
      "machine_shape": "hm",
      "authorship_tag": "ABX9TyNmvW0jbR2SGRPURxMeG8lh",
      "include_colab_link": true
    },
    "kernelspec": {
      "name": "python3",
      "display_name": "Python 3"
    },
    "language_info": {
      "name": "python"
    },
    "gpuClass": "standard"
  },
  "cells": [
    {
      "cell_type": "markdown",
      "metadata": {
        "id": "view-in-github",
        "colab_type": "text"
      },
      "source": [
        "<a href=\"https://colab.research.google.com/github/keran-w/3d-deep-learning/blob/main/Notebooks/label_encoder.ipynb\" target=\"_parent\"><img src=\"https://colab.research.google.com/assets/colab-badge.svg\" alt=\"Open In Colab\"/></a>"
      ]
    },
    {
      "cell_type": "code",
      "execution_count": 1,
      "metadata": {
        "id": "sRpDN369kx-b"
      },
      "outputs": [],
      "source": [
        "import os\n",
        "import glob\n",
        "import pickle\n",
        "import numpy as np\n",
        "import pandas as pd\n",
        "from pathlib import Path\n",
        "\n",
        "from tqdm import tqdm\n",
        "from google.colab import drive\n",
        "from IPython.display import clear_output\n",
        "\n",
        "from sklearn.model_selection import train_test_split\n",
        "from sklearn.preprocessing import LabelEncoder\n",
        "\n",
        "import matplotlib.pyplot as plt\n",
        "from mpl_toolkits import mplot3d\n",
        "from matplotlib.animation import FuncAnimation\n",
        "\n",
        "import torch\n",
        "from torch import nn\n",
        "from torch.nn import functional as F\n",
        "\n",
        "from torch.utils.data import Dataset, DataLoader\n",
        "\n",
        "import warnings\n",
        "warnings.filterwarnings('ignore')\n",
        "\n",
        "drive.mount('/content/drive', force_remount=True)\n",
        "\n",
        "dataset_name = 'modelnet40'\n",
        "%cd /content/drive/MyDrive/dataset/{dataset_name}\n",
        "base_path = Path('.')\n",
        "clear_output()"
      ]
    },
    {
      "cell_type": "code",
      "source": [
        "num_layer = 7\n",
        "X_test, y_test = pickle.load(open(f'SavedData/test_dataset-{num_layer}.pkl','rb'))"
      ],
      "metadata": {
        "id": "0NkzsHilk36l"
      },
      "execution_count": 2,
      "outputs": []
    },
    {
      "cell_type": "code",
      "source": [
        "label_map = {\n",
        "    0: 'airplane',\n",
        "    1: 'bathtub',\n",
        "    2: 'bed',\n",
        "    3: 'bench',\n",
        "    4: 'bookshelf',\n",
        "    5: 'bottle',\n",
        "    6: 'bowl',\n",
        "    7: 'car',\n",
        "    8: 'chair',\n",
        "    9: 'cone',\n",
        "    10: 'cup',\n",
        "    11: 'curtain',\n",
        "    12: 'desk',\n",
        "    13: 'door',\n",
        "    14: 'dresser',\n",
        "    15: 'flower_pot',\n",
        "    16: 'glass_box',\n",
        "    17: 'guitar',\n",
        "    18: 'keyboard',\n",
        "    19: 'lamp',\n",
        "    20: 'laptop',\n",
        "    21: 'mantel',\n",
        "    22: 'monitor',\n",
        "    23: 'night_stand',\n",
        "    24: 'person',\n",
        "    25: 'piano',\n",
        "    26: 'plant',\n",
        "    27: 'radio',\n",
        "    28: 'range_hood',\n",
        "    29: 'sink',\n",
        "    30: 'sofa',\n",
        "    31: 'stairs',\n",
        "    32: 'stool',\n",
        "    33: 'table',\n",
        "    34: 'tent',\n",
        "    35: 'toilet',\n",
        "    36: 'tv_stand',\n",
        "    37: 'vase',\n",
        "    38: 'wardrobe',\n",
        "    39: 'xbox'\n",
        "}\n",
        "\n",
        "le = LabelEncoder()\n",
        "le.fit(list(label_map.values()))\n",
        "# y_train_ = le.transform(y_train)\n",
        "y_test_ = le.transform(y_test)\n",
        "num_labels = len(label_map)"
      ],
      "metadata": {
        "id": "BzVHubaJk7Cz"
      },
      "execution_count": 3,
      "outputs": []
    },
    {
      "cell_type": "code",
      "source": [
        "# with open(f'SavedData/train_dataset-{num_layer}.pkl', 'wb') as f:\n",
        "#    pickle.dump((X_train, y_train_), f)\n",
        "\n",
        "with open(f'SavedData/test_dataset-{num_layer}.pkl', 'wb') as f:\n",
        "   pickle.dump((X_test, y_test_), f)"
      ],
      "metadata": {
        "id": "-MXmIaV3lDiS"
      },
      "execution_count": 6,
      "outputs": []
    }
  ]
}