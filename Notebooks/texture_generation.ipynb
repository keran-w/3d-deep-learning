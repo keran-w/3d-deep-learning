{
 "cells": [
  {
   "cell_type": "code",
   "execution_count": 1,
   "metadata": {},
   "outputs": [
    {
     "name": "stdout",
     "output_type": "stream",
     "text": [
      "Jupyter environment detected. Enabling Open3D WebVisualizer.\n",
      "[Open3D INFO] WebRTC GUI backend enabled.\n",
      "[Open3D INFO] WebRTCWindowSystem: HTTP handshake server disabled.\n"
     ]
    }
   ],
   "source": [
    "import os\n",
    "import cv2\n",
    "import numpy as np\n",
    "import pandas as pd\n",
    "from pathlib import Path\n",
    "\n",
    "import open3d as o3d\n",
    "import torch\n",
    "import tqdm\n",
    "from diffusers import StableDiffusionPipeline"
   ]
  },
  {
   "cell_type": "code",
   "execution_count": 2,
   "metadata": {},
   "outputs": [],
   "source": [
    "base_path = Path('../Dataset/')\n",
    "metadata = pd.read_csv(base_path/'metadata_modelnet40.csv')\n",
    "dataset_dir = base_path/'ModelNet40'"
   ]
  },
  {
   "cell_type": "code",
   "execution_count": 3,
   "metadata": {},
   "outputs": [],
   "source": [
    "def read_off(file):\n",
    "    if 'OFF' != file.readline().strip():\n",
    "        raise ('Not a valid OFF header')\n",
    "    n_verts, n_faces, __ = tuple(\n",
    "        [int(s) for s in file.readline().strip().split(' ')])\n",
    "    verts = [[float(s) for s in file.readline().strip().split(' ')]\n",
    "             for i_vert in range(n_verts)]\n",
    "    faces = [[int(s) for s in file.readline().strip().split(' ')][1:]\n",
    "             for i_face in range(n_faces)]\n",
    "    return verts, faces\n",
    "\n",
    "\n",
    "# read in data\n",
    "sample_label = 'car'\n",
    "with open(f'{dataset_dir}/{sample_label}/train/{sample_label}_0001.off', 'r') as f:\n",
    "    verts, faces = read_off(f)"
   ]
  },
  {
   "cell_type": "code",
   "execution_count": 9,
   "metadata": {},
   "outputs": [
    {
     "name": "stderr",
     "output_type": "stream",
     "text": [
      "100%|██████████| 50/50 [13:27<00:00, 16.16s/it]\n"
     ]
    }
   ],
   "source": [
    "# generate texture image\n",
    "pipe = StableDiffusionPipeline.from_pretrained('../SavedPretrainedModel/texture_diffusion', torch_dtype=torch.float32)\n",
    "pipe.enable_attention_slicing()\n",
    "# pipe = StableDiffusionPipeline.from_pretrained('dream-textures/texture-diffusion', torch_dtype=torch.float32)\n",
    "# pipe.save_pretrained('../SavedPretrainedModel/texture_diffusion')\n",
    "# pipe = pipe.to('cuda')\n",
    "\n",
    "prompt = f'{sample_label} texture'\n",
    "images = pipe(prompt).images\n",
    "# images[0].save(image_path)\n",
    "\n",
    "# select a random texture image\n",
    "image_idx = np.random.choice(len(images))\n",
    "image_path = f'../Texture/{sample_label}.png'\n",
    "images[image_idx].save(image_path)"
   ]
  },
  {
   "cell_type": "code",
   "execution_count": 5,
   "metadata": {},
   "outputs": [
    {
     "data": {
      "text/html": [
       "<pre style=\"white-space:pre;overflow-x:auto;line-height:normal;font-family:Menlo,'DejaVu Sans Mono',consolas,'Courier New',monospace\"><span style=\"color: #800000; text-decoration-color: #800000\">╭─────────────────────────────── </span><span style=\"color: #800000; text-decoration-color: #800000; font-weight: bold\">Traceback </span><span style=\"color: #bf7f7f; text-decoration-color: #bf7f7f; font-weight: bold\">(most recent call last)</span><span style=\"color: #800000; text-decoration-color: #800000\"> ────────────────────────────────╮</span>\n",
       "<span style=\"color: #800000; text-decoration-color: #800000\">│</span> <span style=\"color: #bfbf7f; text-decoration-color: #bfbf7f\">C:\\Users\\wangk\\AppData\\Local\\Temp/ipykernel_6580/</span><span style=\"color: #808000; text-decoration-color: #808000; font-weight: bold\">3579975076.py</span>:<span style=\"color: #0000ff; text-decoration-color: #0000ff\">3</span> in <span style=\"color: #00ff00; text-decoration-color: #00ff00\">&lt;module&gt;</span>                     <span style=\"color: #800000; text-decoration-color: #800000\">│</span>\n",
       "<span style=\"color: #800000; text-decoration-color: #800000\">│</span>                                                                                                  <span style=\"color: #800000; text-decoration-color: #800000\">│</span>\n",
       "<span style=\"color: #800000; text-decoration-color: #800000\">│</span> <span style=\"color: #800000; text-decoration-color: #800000; font-style: italic\">[Errno 2] No such file or directory: </span>                                                            <span style=\"color: #800000; text-decoration-color: #800000\">│</span>\n",
       "<span style=\"color: #800000; text-decoration-color: #800000\">│</span> <span style=\"color: #800000; text-decoration-color: #800000; font-style: italic\">'C:\\\\Users\\\\wangk\\\\AppData\\\\Local\\\\Temp/ipykernel_6580/3579975076.py'</span>                            <span style=\"color: #800000; text-decoration-color: #800000\">│</span>\n",
       "<span style=\"color: #800000; text-decoration-color: #800000\">╰──────────────────────────────────────────────────────────────────────────────────────────────────╯</span>\n",
       "<span style=\"color: #ff0000; text-decoration-color: #ff0000; font-weight: bold\">NameError: </span>name <span style=\"color: #008000; text-decoration-color: #008000\">'image_path'</span> is not defined\n",
       "</pre>\n"
      ],
      "text/plain": [
       "\u001b[31m╭─\u001b[0m\u001b[31m──────────────────────────────\u001b[0m\u001b[31m \u001b[0m\u001b[1;31mTraceback \u001b[0m\u001b[1;2;31m(most recent call last)\u001b[0m\u001b[31m \u001b[0m\u001b[31m───────────────────────────────\u001b[0m\u001b[31m─╮\u001b[0m\n",
       "\u001b[31m│\u001b[0m \u001b[2;33mC:\\Users\\wangk\\AppData\\Local\\Temp/ipykernel_6580/\u001b[0m\u001b[1;33m3579975076.py\u001b[0m:\u001b[94m3\u001b[0m in \u001b[92m<module>\u001b[0m                     \u001b[31m│\u001b[0m\n",
       "\u001b[31m│\u001b[0m                                                                                                  \u001b[31m│\u001b[0m\n",
       "\u001b[31m│\u001b[0m \u001b[3;31m[Errno 2] No such file or directory: \u001b[0m                                                            \u001b[31m│\u001b[0m\n",
       "\u001b[31m│\u001b[0m \u001b[3;31m'C:\\\\Users\\\\wangk\\\\AppData\\\\Local\\\\Temp/ipykernel_6580/3579975076.py'\u001b[0m                            \u001b[31m│\u001b[0m\n",
       "\u001b[31m╰──────────────────────────────────────────────────────────────────────────────────────────────────╯\u001b[0m\n",
       "\u001b[1;91mNameError: \u001b[0mname \u001b[32m'image_path'\u001b[0m is not defined\n"
      ]
     },
     "metadata": {},
     "output_type": "display_data"
    }
   ],
   "source": [
    "# display the texture image\n",
    "from IPython.display import Image\n",
    "Image(filename=image_path)"
   ]
  },
  {
   "cell_type": "code",
   "execution_count": 6,
   "metadata": {},
   "outputs": [
    {
     "data": {
      "text/html": [
       "<pre style=\"white-space:pre;overflow-x:auto;line-height:normal;font-family:Menlo,'DejaVu Sans Mono',consolas,'Courier New',monospace\"><span style=\"color: #800000; text-decoration-color: #800000\">╭─────────────────────────────── </span><span style=\"color: #800000; text-decoration-color: #800000; font-weight: bold\">Traceback </span><span style=\"color: #bf7f7f; text-decoration-color: #bf7f7f; font-weight: bold\">(most recent call last)</span><span style=\"color: #800000; text-decoration-color: #800000\"> ────────────────────────────────╮</span>\n",
       "<span style=\"color: #800000; text-decoration-color: #800000\">│</span> <span style=\"color: #bfbf7f; text-decoration-color: #bfbf7f\">C:\\Users\\wangk\\AppData\\Local\\Temp/ipykernel_6580/</span><span style=\"color: #808000; text-decoration-color: #808000; font-weight: bold\">3512117083.py</span>:<span style=\"color: #0000ff; text-decoration-color: #0000ff\">26</span> in <span style=\"color: #00ff00; text-decoration-color: #00ff00\">&lt;module&gt;</span>                    <span style=\"color: #800000; text-decoration-color: #800000\">│</span>\n",
       "<span style=\"color: #800000; text-decoration-color: #800000\">│</span>                                                                                                  <span style=\"color: #800000; text-decoration-color: #800000\">│</span>\n",
       "<span style=\"color: #800000; text-decoration-color: #800000\">│</span> <span style=\"color: #800000; text-decoration-color: #800000; font-style: italic\">[Errno 2] No such file or directory: </span>                                                            <span style=\"color: #800000; text-decoration-color: #800000\">│</span>\n",
       "<span style=\"color: #800000; text-decoration-color: #800000\">│</span> <span style=\"color: #800000; text-decoration-color: #800000; font-style: italic\">'C:\\\\Users\\\\wangk\\\\AppData\\\\Local\\\\Temp/ipykernel_6580/3512117083.py'</span>                            <span style=\"color: #800000; text-decoration-color: #800000\">│</span>\n",
       "<span style=\"color: #800000; text-decoration-color: #800000\">╰──────────────────────────────────────────────────────────────────────────────────────────────────╯</span>\n",
       "<span style=\"color: #ff0000; text-decoration-color: #ff0000; font-weight: bold\">NameError: </span>name <span style=\"color: #008000; text-decoration-color: #008000\">'image_path'</span> is not defined\n",
       "</pre>\n"
      ],
      "text/plain": [
       "\u001b[31m╭─\u001b[0m\u001b[31m──────────────────────────────\u001b[0m\u001b[31m \u001b[0m\u001b[1;31mTraceback \u001b[0m\u001b[1;2;31m(most recent call last)\u001b[0m\u001b[31m \u001b[0m\u001b[31m───────────────────────────────\u001b[0m\u001b[31m─╮\u001b[0m\n",
       "\u001b[31m│\u001b[0m \u001b[2;33mC:\\Users\\wangk\\AppData\\Local\\Temp/ipykernel_6580/\u001b[0m\u001b[1;33m3512117083.py\u001b[0m:\u001b[94m26\u001b[0m in \u001b[92m<module>\u001b[0m                    \u001b[31m│\u001b[0m\n",
       "\u001b[31m│\u001b[0m                                                                                                  \u001b[31m│\u001b[0m\n",
       "\u001b[31m│\u001b[0m \u001b[3;31m[Errno 2] No such file or directory: \u001b[0m                                                            \u001b[31m│\u001b[0m\n",
       "\u001b[31m│\u001b[0m \u001b[3;31m'C:\\\\Users\\\\wangk\\\\AppData\\\\Local\\\\Temp/ipykernel_6580/3512117083.py'\u001b[0m                            \u001b[31m│\u001b[0m\n",
       "\u001b[31m╰──────────────────────────────────────────────────────────────────────────────────────────────────╯\u001b[0m\n",
       "\u001b[1;91mNameError: \u001b[0mname \u001b[32m'image_path'\u001b[0m is not defined\n"
      ]
     },
     "metadata": {},
     "output_type": "display_data"
    }
   ],
   "source": [
    "def generate_texture_coords(verts, faces, texture_file):\n",
    "    # Load the texture image\n",
    "    texture = cv2.imread(texture_file)\n",
    "\n",
    "    # Create an empty list to store the texture coordinates for each triangle\n",
    "    triangles_uv = []\n",
    "\n",
    "    # Loop over each face in the mesh's faces list\n",
    "    for face in faces:\n",
    "        # Retrieve the 3D vertex positions corresponding to the three vertices of the current face\n",
    "        v1, v2, v3 = verts[face[0]], verts[face[1]], verts[face[2]]\n",
    "\n",
    "        # Compute the texture coordinates for each vertex using the UV image\n",
    "        uv1 = [v1[0] / texture.shape[1], (texture.shape[0] - v1[1]) / texture.shape[0]]\n",
    "        uv2 = [v2[0] / texture.shape[1], (texture.shape[0] - v2[1]) / texture.shape[0]]\n",
    "        uv3 = [v3[0] / texture.shape[1], (texture.shape[0] - v3[1]) / texture.shape[0]]\n",
    "\n",
    "        # Append the texture coordinates for the three vertices of the current face to the list\n",
    "        triangles_uv.extend([uv1, uv2, uv3])\n",
    "\n",
    "    # Convert the list of texture coordinates to a numpy array of shape (num_faces*3, 2)\n",
    "    triangles_uv = np.array(triangles_uv)\n",
    "\n",
    "    return texture, triangles_uv\n",
    "\n",
    "texture, triangles_uv = generate_texture_coords(verts, faces, image_path)\n",
    "# norma;ize the texture coordinates to the range [0, 1]\n",
    "triangles_uv = (triangles_uv - np.min(triangles_uv, axis=0)) / (np.max(triangles_uv, axis=0) - np.min(triangles_uv, axis=0))\n",
    "triangles_uv"
   ]
  },
  {
   "cell_type": "code",
   "execution_count": 7,
   "metadata": {},
   "outputs": [
    {
     "data": {
      "text/html": [
       "<pre style=\"white-space:pre;overflow-x:auto;line-height:normal;font-family:Menlo,'DejaVu Sans Mono',consolas,'Courier New',monospace\"><span style=\"color: #800000; text-decoration-color: #800000\">╭─────────────────────────────── </span><span style=\"color: #800000; text-decoration-color: #800000; font-weight: bold\">Traceback </span><span style=\"color: #bf7f7f; text-decoration-color: #bf7f7f; font-weight: bold\">(most recent call last)</span><span style=\"color: #800000; text-decoration-color: #800000\"> ────────────────────────────────╮</span>\n",
       "<span style=\"color: #800000; text-decoration-color: #800000\">│</span> <span style=\"color: #bfbf7f; text-decoration-color: #bfbf7f\">C:\\Users\\wangk\\AppData\\Local\\Temp/ipykernel_6580/</span><span style=\"color: #808000; text-decoration-color: #808000; font-weight: bold\">3135122364.py</span>:<span style=\"color: #0000ff; text-decoration-color: #0000ff\">4</span> in <span style=\"color: #00ff00; text-decoration-color: #00ff00\">&lt;module&gt;</span>                     <span style=\"color: #800000; text-decoration-color: #800000\">│</span>\n",
       "<span style=\"color: #800000; text-decoration-color: #800000\">│</span>                                                                                                  <span style=\"color: #800000; text-decoration-color: #800000\">│</span>\n",
       "<span style=\"color: #800000; text-decoration-color: #800000\">│</span> <span style=\"color: #800000; text-decoration-color: #800000; font-style: italic\">[Errno 2] No such file or directory: </span>                                                            <span style=\"color: #800000; text-decoration-color: #800000\">│</span>\n",
       "<span style=\"color: #800000; text-decoration-color: #800000\">│</span> <span style=\"color: #800000; text-decoration-color: #800000; font-style: italic\">'C:\\\\Users\\\\wangk\\\\AppData\\\\Local\\\\Temp/ipykernel_6580/3135122364.py'</span>                            <span style=\"color: #800000; text-decoration-color: #800000\">│</span>\n",
       "<span style=\"color: #800000; text-decoration-color: #800000\">╰──────────────────────────────────────────────────────────────────────────────────────────────────╯</span>\n",
       "<span style=\"color: #ff0000; text-decoration-color: #ff0000; font-weight: bold\">NameError: </span>name <span style=\"color: #008000; text-decoration-color: #008000\">'triangles_uv'</span> is not defined\n",
       "</pre>\n"
      ],
      "text/plain": [
       "\u001b[31m╭─\u001b[0m\u001b[31m──────────────────────────────\u001b[0m\u001b[31m \u001b[0m\u001b[1;31mTraceback \u001b[0m\u001b[1;2;31m(most recent call last)\u001b[0m\u001b[31m \u001b[0m\u001b[31m───────────────────────────────\u001b[0m\u001b[31m─╮\u001b[0m\n",
       "\u001b[31m│\u001b[0m \u001b[2;33mC:\\Users\\wangk\\AppData\\Local\\Temp/ipykernel_6580/\u001b[0m\u001b[1;33m3135122364.py\u001b[0m:\u001b[94m4\u001b[0m in \u001b[92m<module>\u001b[0m                     \u001b[31m│\u001b[0m\n",
       "\u001b[31m│\u001b[0m                                                                                                  \u001b[31m│\u001b[0m\n",
       "\u001b[31m│\u001b[0m \u001b[3;31m[Errno 2] No such file or directory: \u001b[0m                                                            \u001b[31m│\u001b[0m\n",
       "\u001b[31m│\u001b[0m \u001b[3;31m'C:\\\\Users\\\\wangk\\\\AppData\\\\Local\\\\Temp/ipykernel_6580/3135122364.py'\u001b[0m                            \u001b[31m│\u001b[0m\n",
       "\u001b[31m╰──────────────────────────────────────────────────────────────────────────────────────────────────╯\u001b[0m\n",
       "\u001b[1;91mNameError: \u001b[0mname \u001b[32m'triangles_uv'\u001b[0m is not defined\n"
      ]
     },
     "metadata": {},
     "output_type": "display_data"
    }
   ],
   "source": [
    "m = o3d.geometry.TriangleMesh(o3d.open3d.utility.Vector3dVector(verts),\n",
    "                              o3d.open3d.utility.Vector3iVector(faces))\n",
    "m.compute_vertex_normals()\n",
    "m.triangle_uvs = o3d.open3d.utility.Vector2dVector(triangles_uv)\n",
    "m.triangle_material_ids = o3d.utility.IntVector([0]*len(faces))\n",
    "m.textures = [o3d.geometry.Image(texture)]\n",
    "\n",
    "o3d.visualization.draw_geometries([m])"
   ]
  }
 ],
 "metadata": {
  "kernelspec": {
   "display_name": "base",
   "language": "python",
   "name": "python3"
  },
  "language_info": {
   "codemirror_mode": {
    "name": "ipython",
    "version": 3
   },
   "file_extension": ".py",
   "mimetype": "text/x-python",
   "name": "python",
   "nbconvert_exporter": "python",
   "pygments_lexer": "ipython3",
   "version": "3.9.7"
  },
  "orig_nbformat": 4
 },
 "nbformat": 4,
 "nbformat_minor": 2
}
