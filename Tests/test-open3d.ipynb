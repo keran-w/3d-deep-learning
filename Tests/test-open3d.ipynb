{
 "cells": [
  {
   "cell_type": "code",
   "execution_count": 6,
   "metadata": {},
   "outputs": [],
   "source": [
    "import os\n",
    "import cv2\n",
    "import numpy as np\n",
    "import pandas as pd\n",
    "from pathlib import Path\n",
    "\n",
    "import open3d as o3d\n",
    "\n",
    "base_path = Path('./Dataset/')\n",
    "\n",
    "metadata = pd.read_csv(base_path/'metadata_modelnet40.csv')\n",
    "\n",
    "dataset_dir = base_path/'ModelNet40'\n",
    "\n",
    "\n",
    "def read_off(file):\n",
    "    if 'OFF' != file.readline().strip():\n",
    "        raise ('Not a valid OFF header')\n",
    "    n_verts, n_faces, __ = tuple(\n",
    "        [int(s) for s in file.readline().strip().split(' ')])\n",
    "    verts = [[float(s) for s in file.readline().strip().split(' ')]\n",
    "             for i_vert in range(n_verts)]\n",
    "    faces = [[int(s) for s in file.readline().strip().split(' ')][1:]\n",
    "             for i_face in range(n_faces)]\n",
    "    return verts, faces\n",
    "\n",
    "\n",
    "# read in data\n",
    "sample_label = 'airplane'\n",
    "with open(f'{dataset_dir}/{sample_label}/train/{sample_label}_0001.off', 'r') as f:\n",
    "    verts, faces = read_off(f)"
   ]
  },
  {
   "cell_type": "code",
   "execution_count": 7,
   "metadata": {},
   "outputs": [
    {
     "data": {
      "text/plain": [
       "(299, 400, 3)"
      ]
     },
     "execution_count": 7,
     "metadata": {},
     "output_type": "execute_result"
    }
   ],
   "source": [
    "class Texture:\n",
    "    def __init__(self, img_path):\n",
    "        self.img = cv2.imread(img_path)\n",
    "        self.width = self.img.shape[1]\n",
    "        self.height = self.img.shape[0]\n",
    "\n",
    "    def get_color_value(self, u, v):\n",
    "        x = int(u * self.width)\n",
    "        y = int(v * self.height)\n",
    "        return self.img[x, y]\n",
    "\n",
    "\n",
    "texture = Texture('./cupe_uv.png')\n",
    "texture.img.shape"
   ]
  },
  {
   "cell_type": "code",
   "execution_count": 8,
   "metadata": {},
   "outputs": [],
   "source": [
    "v_max = np.max(verts, axis=0)\n",
    "v_min = np.min(verts, axis=0)"
   ]
  },
  {
   "cell_type": "code",
   "execution_count": 9,
   "metadata": {},
   "outputs": [],
   "source": [
    "# triangles_uv = []\n",
    "# for face in faces:\n",
    "#     # get the 3 vertices of the face\n",
    "#     v1, v2, v3 = verts[face[0]], verts[face[1]], verts[face[2]]\n",
    "#     # uv1 = [v1[0]/400, 1-v1[1]/200]\n",
    "#     uv1 = [v1[0]/texture.width, 1-v1[1]/texture.height]\n",
    "#     uv2 = [v2[0]/texture.width, 1-v2[1]/texture.height]\n",
    "#     uv3 = [v3[0]/texture.width, 1-v3[1]/texture.height]\n",
    "#     triangles_uv.append([uv1, uv2, uv3])\n",
    "\n",
    "# triangles_uv = np.array(triangles_uv)\n",
    "# print(triangles_uv.shape)  # (48, 2)\n",
    "\n",
    "# u = x / texture_width\n",
    "# v = (texture_height - y) / texture_height\n"
   ]
  },
  {
   "cell_type": "code",
   "execution_count": 10,
   "metadata": {},
   "outputs": [
    {
     "data": {
      "text/plain": [
       "array([[0.065583  , 0.86603612],\n",
       "       [0.06280825, 0.86770234],\n",
       "       [0.0637475 , 0.8696214 ],\n",
       "       ...,\n",
       "       [0.        , 0.84355385],\n",
       "       [0.        , 0.84358261],\n",
       "       [0.        , 0.84336421]])"
      ]
     },
     "execution_count": 10,
     "metadata": {},
     "output_type": "execute_result"
    }
   ],
   "source": [
    "def generate_texture_coords(verts, faces, texture_file):\n",
    "    # Load the texture image\n",
    "    texture = cv2.imread(texture_file)\n",
    "\n",
    "    # Create an empty list to store the texture coordinates for each triangle\n",
    "    triangles_uv = []\n",
    "\n",
    "    # Loop over each face in the mesh's faces list\n",
    "    for face in faces:\n",
    "        # Retrieve the 3D vertex positions corresponding to the three vertices of the current face\n",
    "        v1, v2, v3 = verts[face[0]], verts[face[1]], verts[face[2]]\n",
    "\n",
    "        # Compute the texture coordinates for each vertex using the UV image\n",
    "        uv1 = [v1[0] / texture.shape[1], (texture.shape[0] - v1[1]) / texture.shape[0]]\n",
    "        uv2 = [v2[0] / texture.shape[1], (texture.shape[0] - v2[1]) / texture.shape[0]]\n",
    "        uv3 = [v3[0] / texture.shape[1], (texture.shape[0] - v3[1]) / texture.shape[0]]\n",
    "\n",
    "        # Append the texture coordinates for the three vertices of the current face to the list\n",
    "        triangles_uv.extend([uv1, uv2, uv3])\n",
    "\n",
    "    # Convert the list of texture coordinates to a numpy array of shape (num_faces*3, 2)\n",
    "    triangles_uv = np.array(triangles_uv)\n",
    "\n",
    "    return triangles_uv\n",
    "\n",
    "texture_file = 'cupe_uv.png'\n",
    "\n",
    "triangles_uv = generate_texture_coords(verts, faces, texture_file)\n",
    "# triangles_uv = np.round(triangles_uv.clip(0,1) * 255).astype(np.uint8)\n",
    "triangles_uv = triangles_uv.clip(0,1)\n",
    "triangles_uv"
   ]
  },
  {
   "cell_type": "code",
   "execution_count": 11,
   "metadata": {},
   "outputs": [
    {
     "ename": "",
     "evalue": "",
     "output_type": "error",
     "traceback": [
      "\u001b[1;31mCanceled future for execute_request message before replies were done"
     ]
    },
    {
     "ename": "",
     "evalue": "",
     "output_type": "error",
     "traceback": [
      "\u001b[1;31mThe Kernel crashed while executing code in the the current cell or a previous cell. Please review the code in the cell(s) to identify a possible cause of the failure. Click <a href='https://aka.ms/vscodeJupyterKernelCrash'>here</a> for more info. View Jupyter <a href='command:jupyter.viewOutput'>log</a> for further details."
     ]
    }
   ],
   "source": [
    "m = o3d.geometry.TriangleMesh(o3d.open3d.utility.Vector3dVector(verts),\n",
    "                              o3d.open3d.utility.Vector3iVector(faces))\n",
    "m.compute_vertex_normals()\n",
    "m.triangle_uvs = o3d.open3d.utility.Vector2dVector(triangles_uv)\n",
    "m.triangle_material_ids = o3d.utility.IntVector([0]*len(faces))\n",
    "m.textures = [o3d.geometry.Image(texture.img)]\n",
    "\n",
    "o3d.visualization.draw_geometries([m])"
   ]
  },
  {
   "cell_type": "code",
   "execution_count": null,
   "metadata": {},
   "outputs": [
    {
     "name": "stdout",
     "output_type": "stream",
     "text": [
      "[26.2332, 40.0552, 80.1577] [25.1233, 39.557, 77.4126] [25.499, 38.9832, 80.1355]\n"
     ]
    },
    {
     "ename": "IndexError",
     "evalue": "index 10493 is out of bounds for axis 0 with size 299",
     "output_type": "error",
     "traceback": [
      "\u001b[0;31m---------------------------------------------------------------------------\u001b[0m",
      "\u001b[0;31mIndexError\u001b[0m                                Traceback (most recent call last)",
      "Cell \u001b[0;32mIn[5], line 8\u001b[0m\n\u001b[1;32m      5\u001b[0m \u001b[39mprint\u001b[39m(v1, v2, v3)\n\u001b[1;32m      7\u001b[0m \u001b[39m# compute the texture coordinates for each vertex using the UV image\u001b[39;00m\n\u001b[0;32m----> 8\u001b[0m uv1 \u001b[39m=\u001b[39m texture\u001b[39m.\u001b[39;49mget_color_value(v1[\u001b[39m0\u001b[39;49m], \u001b[39m1\u001b[39;49m \u001b[39m-\u001b[39;49m v1[\u001b[39m1\u001b[39;49m])\n\u001b[1;32m      9\u001b[0m uv2 \u001b[39m=\u001b[39m texture\u001b[39m.\u001b[39mget_color_value(v2[\u001b[39m0\u001b[39m], \u001b[39m1\u001b[39m \u001b[39m-\u001b[39m v2[\u001b[39m1\u001b[39m])\n\u001b[1;32m     10\u001b[0m uv3 \u001b[39m=\u001b[39m texture\u001b[39m.\u001b[39mget_color_value(v3[\u001b[39m0\u001b[39m], \u001b[39m1\u001b[39m \u001b[39m-\u001b[39m v3[\u001b[39m1\u001b[39m])\n",
      "Cell \u001b[0;32mIn[3], line 47\u001b[0m, in \u001b[0;36mTexture.get_color_value\u001b[0;34m(self, u, v)\u001b[0m\n\u001b[1;32m     45\u001b[0m x \u001b[39m=\u001b[39m \u001b[39mint\u001b[39m(u \u001b[39m*\u001b[39m \u001b[39mself\u001b[39m\u001b[39m.\u001b[39mwidth)\n\u001b[1;32m     46\u001b[0m y \u001b[39m=\u001b[39m \u001b[39mint\u001b[39m(v \u001b[39m*\u001b[39m \u001b[39mself\u001b[39m\u001b[39m.\u001b[39mheight)\n\u001b[0;32m---> 47\u001b[0m \u001b[39mreturn\u001b[39;00m \u001b[39mself\u001b[39;49m\u001b[39m.\u001b[39;49mimg[x, y]\n",
      "\u001b[0;31mIndexError\u001b[0m: index 10493 is out of bounds for axis 0 with size 299"
     ]
    }
   ],
   "source": [
    "\n",
    "\n",
    "\n",
    "\n"
   ]
  },
  {
   "cell_type": "code",
   "execution_count": 23,
   "metadata": {},
   "outputs": [
    {
     "data": {
      "text/plain": [
       "array([[0.75, 0.33],\n",
       "       [0.75, 0.66],\n",
       "       [1.  , 0.66],\n",
       "       [1.  , 0.66],\n",
       "       [1.  , 0.33],\n",
       "       [0.75, 0.33],\n",
       "       [0.5 , 0.33],\n",
       "       [0.5 , 0.66],\n",
       "       [0.75, 0.66],\n",
       "       [0.75, 0.66],\n",
       "       [0.75, 0.33],\n",
       "       [0.5 , 0.33],\n",
       "       [0.25, 0.33],\n",
       "       [0.25, 0.66],\n",
       "       [0.5 , 0.66],\n",
       "       [0.5 , 0.66],\n",
       "       [0.5 , 0.33],\n",
       "       [0.25, 0.33],\n",
       "       [0.  , 0.33],\n",
       "       [0.  , 0.66],\n",
       "       [0.25, 0.66],\n",
       "       [0.25, 0.66],\n",
       "       [0.25, 0.33],\n",
       "       [0.  , 0.33],\n",
       "       [0.25, 0.  ],\n",
       "       [0.25, 0.33],\n",
       "       [0.5 , 0.33],\n",
       "       [0.5 , 0.33],\n",
       "       [0.5 , 0.  ],\n",
       "       [0.25, 0.  ],\n",
       "       [0.25, 0.66],\n",
       "       [0.25, 0.99],\n",
       "       [0.5 , 0.99],\n",
       "       [0.5 , 0.99],\n",
       "       [0.5 , 0.66],\n",
       "       [0.25, 0.66]])"
      ]
     },
     "execution_count": 23,
     "metadata": {},
     "output_type": "execute_result"
    }
   ],
   "source": [
    "import os\n",
    "import cv2\n",
    "import numpy as np\n",
    "import open3d as o3d\n",
    " \n",
    "vert = [[0,0,0],[0,1,0],[1,1,0],[1,0,0],\n",
    "        [0,0,1],[0,1,1],[1,1,1],[1,0,1]]\n",
    "        \n",
    "faces = [[3, 0, 1], [1, 2, 3],\n",
    "         [1, 5, 6], [6, 2, 1], \n",
    "         [5, 4, 7], [7, 6, 5], \n",
    "         [4, 0, 3], [3, 7, 4], \n",
    "         [6, 7, 3], [3, 2, 6], \n",
    "         [1, 0, 4], [4, 5, 1]]\n",
    " \n",
    "m=o3d.geometry.TriangleMesh(o3d.open3d.utility.Vector3dVector(vert),\n",
    "                            o3d.open3d.utility.Vector3iVector(faces))\n",
    " \n",
    "m.compute_vertex_normals()\n",
    " \n",
    "text=cv2.imread('./cupe_uv.png')\n",
    " \n",
    "DX,DY=0.5/2,0.66/2 # UV坐标\n",
    " \n",
    "one = [[3*DX,1*DY], [3*DX,2*DY], [4*DX,2*DY], [4*DX,2*DY], [4*DX,1*DY], [3*DX,1*DY]]\n",
    "two = [[2*DX,1*DY], [2*DX,2*DY], [3*DX,2*DY], [3*DX,2*DY], [3*DX,1*DY], [2*DX,1*DY]]\n",
    "three=[[1*DX,1*DY], [1*DX,2*DY], [2*DX,2*DY], [2*DX,2*DY], [2*DX,1*DY], [1*DX,1*DY]]\n",
    "four= [[0*DX,1*DY], [0*DX,2*DY], [1*DX,2*DY], [1*DX,2*DY], [1*DX,1*DY], [0*DX,1*DY]]\n",
    "five= [[1*DX,0*DY], [1*DX,1*DY], [2*DX,1*DY], [2*DX,1*DY], [2*DX,0*DY], [1*DX,0*DY]]\n",
    "six = [[1*DX,2*DY], [1*DX,3*DY], [2*DX,3*DY], [2*DX,3*DY], [2*DX,2*DY], [1*DX,2*DY]]\n",
    " \n",
    "v_uv=np.concatenate((one,two,three,four,five,six),axis=0)\n",
    "# print(v_uv.shape) # (48, 2)\n",
    "v_uv\n",
    "# m.triangle_uvs = o3d.open3d.utility.Vector2dVector(v_uv)\n",
    "# m.triangle_material_ids = o3d.utility.IntVector([0]*len(faces))\n",
    "# m.textures = [o3d.geometry.Image(text)]\n",
    " \n",
    "# o3d.visualization.draw_geometries([m])"
   ]
  },
  {
   "cell_type": "code",
   "execution_count": 1,
   "metadata": {},
   "outputs": [
    {
     "name": "stderr",
     "output_type": "stream",
     "text": [
      "/Users/keranwang/Project/3d-deep-learning/.venv/lib/python3.9/site-packages/tqdm/auto.py:21: TqdmWarning: IProgress not found. Please update jupyter and ipywidgets. See https://ipywidgets.readthedocs.io/en/stable/user_install.html\n",
      "  from .autonotebook import tqdm as notebook_tqdm\n"
     ]
    },
    {
     "ename": "",
     "evalue": "",
     "output_type": "error",
     "traceback": [
      "\u001b[1;31mCanceled future for execute_request message before replies were done"
     ]
    },
    {
     "ename": "",
     "evalue": "",
     "output_type": "error",
     "traceback": [
      "\u001b[1;31mThe Kernel crashed while executing code in the the current cell or a previous cell. Please review the code in the cell(s) to identify a possible cause of the failure. Click <a href='https://aka.ms/vscodeJupyterKernelCrash'>here</a> for more info. View Jupyter <a href='command:jupyter.viewOutput'>log</a> for further details."
     ]
    }
   ],
   "source": [
    "import torch\n",
    "import tqdm\n",
    "from diffusers import StableDiffusionPipeline\n",
    "\n",
    "pipe = StableDiffusionPipeline.from_pretrained(\"dream-textures/texture-diffusion\", torch_dtype=torch.float16)\n",
    "pipe = pipe.to(\"mps\")\n",
    "\n",
    "pipe.enable_attention_slicing()\n",
    "\n",
    "sample_label = 'airplane'\n",
    "prompt = f'smooth and aerodynamic {sample_label} surface'\n",
    "image = pipe(prompt).images[0]  \n",
    "image.save(f\"Texture/{sample_label}.png\")\n"
   ]
  }
 ],
 "metadata": {
  "kernelspec": {
   "display_name": "base",
   "language": "python",
   "name": "python3"
  },
  "language_info": {
   "codemirror_mode": {
    "name": "ipython",
    "version": 3
   },
   "file_extension": ".py",
   "mimetype": "text/x-python",
   "name": "python",
   "nbconvert_exporter": "python",
   "pygments_lexer": "ipython3",
   "version": "3.9.12"
  },
  "orig_nbformat": 4
 },
 "nbformat": 4,
 "nbformat_minor": 2
}
